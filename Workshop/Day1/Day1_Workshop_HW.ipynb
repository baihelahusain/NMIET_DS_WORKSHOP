{
  "cells": [
    {
      "cell_type": "markdown",
      "metadata": {
        "id": "view-in-github",
        "colab_type": "text"
      },
      "source": [
        "<a href=\"https://colab.research.google.com/github/baihelahusain/NMIET_DS_WORKSHOP/blob/main/Day1_Workshop_HW.ipynb\" target=\"_parent\"><img src=\"https://colab.research.google.com/assets/colab-badge.svg\" alt=\"Open In Colab\"/></a>"
      ]
    },
    {
      "cell_type": "markdown",
      "metadata": {
        "id": "z_V_A8T_QJtp"
      },
      "source": [
        "___\n",
        "\n",
        "Mr. Yogesh P Murumkar (Mob. 9657080906)\n",
        "\n",
        "https://www.youtube.com/c/yogeshmurumkar\n",
        "___\n",
        "# Python Course Exercises 1\n",
        "\n",
        "This is an optional exercise to test your understanding of Python Basics. If you find this extremely challenging, then you probably are not ready for the rest of this course yet and don't have enough programming experience to continue. I would suggest you take another course more geared towards complete beginners."
      ]
    },
    {
      "cell_type": "markdown",
      "metadata": {
        "id": "xBGUpw8-QJtx"
      },
      "source": [
        "## Exercises\n",
        "\n",
        "Answer the questions or complete the tasks outlined in bold below, use the specific method described if applicable."
      ]
    },
    {
      "cell_type": "markdown",
      "metadata": {
        "id": "Tu4Ttsj0QJtz"
      },
      "source": [
        "** What is 7 to the power of 4?**"
      ]
    },
    {
      "cell_type": "code",
      "execution_count": null,
      "metadata": {
        "colab": {
          "base_uri": "https://localhost:8080/"
        },
        "id": "cWIR4g_uQJt0",
        "outputId": "d88a9317-3e1a-486f-e1d1-ac0ad6e7b7e0"
      },
      "outputs": [
        {
          "output_type": "execute_result",
          "data": {
            "text/plain": [
              "2401"
            ]
          },
          "metadata": {},
          "execution_count": 1
        }
      ],
      "source": [
        "7**4"
      ]
    },
    {
      "cell_type": "markdown",
      "metadata": {
        "id": "9elwvS6QQJt3"
      },
      "source": [
        "** Split this string:**\n",
        "\n",
        "    s = \"Hi there Yogesh!\"\n",
        "    \n",
        "**into a list. **"
      ]
    },
    {
      "cell_type": "markdown",
      "metadata": {
        "id": "4lhxpwJJlNMe"
      },
      "source": [
        "** Split this string:**\n",
        "\n",
        "    s = \"Hi there Yogesh!\"\n",
        "    \n",
        "**into a list. **"
      ]
    },
    {
      "cell_type": "code",
      "execution_count": null,
      "metadata": {
        "colab": {
          "base_uri": "https://localhost:8080/"
        },
        "id": "56HyQIsxQJt5",
        "outputId": "0ebeff3e-29b4-4aad-9418-5e276e8c7e79"
      },
      "outputs": [
        {
          "output_type": "execute_result",
          "data": {
            "text/plain": [
              "['Hi', 'there', 'Yogesh!']"
            ]
          },
          "metadata": {},
          "execution_count": 2
        }
      ],
      "source": [
        "s = \"Hi there Yogesh!\"\n",
        "s_list = s.split()\n",
        "s_list\n"
      ]
    },
    {
      "cell_type": "markdown",
      "metadata": {
        "id": "XAShUFRpQJt7"
      },
      "source": [
        "** Given the variables:**\n",
        "\n",
        "    planet = \"Earth\"\n",
        "    diameter = 12742\n",
        "\n",
        "** Use .format() to print the following string: **\n",
        "\n",
        "    The diameter of Earth is 12742 kilometers."
      ]
    },
    {
      "cell_type": "code",
      "execution_count": null,
      "metadata": {
        "id": "J6rjkMKOQJt_",
        "outputId": "994a2925-0725-4e4f-cb63-5a791973d606"
      },
      "outputs": [
        {
          "data": {
            "text/plain": [
              "'The diameter of Earth is 12742 kilometers'"
            ]
          },
          "execution_count": 2,
          "metadata": {},
          "output_type": "execute_result"
        }
      ],
      "source": []
    },
    {
      "cell_type": "code",
      "execution_count": null,
      "metadata": {
        "id": "LU3iNVUIQJt9",
        "colab": {
          "base_uri": "https://localhost:8080/"
        },
        "outputId": "e0de1b0e-3859-4ec2-b686-bf9d29a09be4"
      },
      "outputs": [
        {
          "output_type": "stream",
          "name": "stdout",
          "text": [
            "The diameter of Earth is 12742 kilometers.\n"
          ]
        }
      ],
      "source": [
        "planet = \"Earth\"\n",
        "diameter = 12742\n",
        "\n",
        "print(\"The diameter of {} is {} kilometers.\".format(planet, diameter))\n"
      ]
    },
    {
      "cell_type": "markdown",
      "metadata": {
        "id": "ughIjEVmQJuA"
      },
      "source": [
        "** **bold text** Given this nested list, use indexing to grab the word \"hello\" **"
      ]
    },
    {
      "cell_type": "code",
      "execution_count": null,
      "metadata": {
        "id": "CICK3SenQJuB"
      },
      "outputs": [],
      "source": [
        "lst = [1,2,[3,4],[5,[100,200,['hello']],23,11],1,7]"
      ]
    },
    {
      "cell_type": "code",
      "execution_count": null,
      "metadata": {
        "id": "bzy0iB1gQJuD",
        "outputId": "0480ed0e-1988-4032-e632-5e3415ba0467",
        "colab": {
          "base_uri": "https://localhost:8080/",
          "height": 38
        }
      },
      "outputs": [
        {
          "output_type": "execute_result",
          "data": {
            "text/plain": [
              "'hello'"
            ],
            "application/vnd.google.colaboratory.intrinsic+json": {
              "type": "string"
            }
          },
          "metadata": {},
          "execution_count": 7
        }
      ],
      "source": [
        "lst[3][1][2][0]"
      ]
    },
    {
      "cell_type": "markdown",
      "metadata": {
        "id": "KvZZ9uOAQJuD"
      },
      "source": [
        "** Given this nested dictionary grab the word \"hello\". Be prepared, this will be annoying/tricky **"
      ]
    },
    {
      "cell_type": "code",
      "execution_count": null,
      "metadata": {
        "id": "6UYjb58KQJuE"
      },
      "outputs": [],
      "source": [
        "d = {'k1':[1,2,3,{'tricky':['oh','man','inception',{'target':[1,2,3,'hello']}]}]}"
      ]
    },
    {
      "cell_type": "code",
      "execution_count": null,
      "metadata": {
        "id": "qEHcy_WhQJuE",
        "outputId": "69770a3c-d776-4b23-dee8-b031a1450529",
        "colab": {
          "base_uri": "https://localhost:8080/",
          "height": 38
        }
      },
      "outputs": [
        {
          "output_type": "execute_result",
          "data": {
            "text/plain": [
              "'hello'"
            ],
            "application/vnd.google.colaboratory.intrinsic+json": {
              "type": "string"
            }
          },
          "metadata": {},
          "execution_count": 10
        }
      ],
      "source": [
        "d['k1'][3]['tricky'][3]['target'][3]"
      ]
    },
    {
      "cell_type": "markdown",
      "metadata": {
        "id": "2K65VtFZQJuF"
      },
      "source": [
        "** What is the main difference between a tuple and a list? **"
      ]
    },
    {
      "cell_type": "code",
      "execution_count": null,
      "metadata": {
        "collapsed": true,
        "id": "bybmMa7sQJuF"
      },
      "outputs": [],
      "source": [
        "# Tuple is immutable"
      ]
    },
    {
      "cell_type": "markdown",
      "metadata": {
        "id": "YlhiTKVdQJuG"
      },
      "source": [
        "** Create a function that grabs the email website domain from a string in the form: **\n",
        "\n",
        "    user@domain.com\n",
        "    \n",
        "**So for example, passing \"user@domain.com\" would return: domain.com**"
      ]
    },
    {
      "cell_type": "code",
      "execution_count": null,
      "metadata": {
        "id": "97fbiFEDQJuH",
        "colab": {
          "base_uri": "https://localhost:8080/",
          "height": 38
        },
        "outputId": "1865fd3c-6ad9-45ad-845f-4768b70abc5a"
      },
      "outputs": [
        {
          "output_type": "execute_result",
          "data": {
            "text/plain": [
              "'domain.com'"
            ],
            "application/vnd.google.colaboratory.intrinsic+json": {
              "type": "string"
            }
          },
          "metadata": {},
          "execution_count": 11
        }
      ],
      "source": [
        "def domainGet(email):\n",
        "  return email.split('@')[-1]\n",
        "\n",
        "# Example usage:\n",
        "email = \"user@domain.com\"\n",
        "domain = domainGet(email)\n",
        "domain\n"
      ]
    },
    {
      "cell_type": "markdown",
      "metadata": {
        "id": "gwiE_tcKQJuH"
      },
      "source": [
        "** Create a basic function that returns True if the word 'dog' is contained in the input string. Don't worry about edge cases like a punctuation being attached to the word dog, but do account for capitalization. **"
      ]
    },
    {
      "cell_type": "code",
      "execution_count": null,
      "metadata": {
        "collapsed": true,
        "id": "D-R4e4EnQJuI"
      },
      "outputs": [],
      "source": [
        "def findDog(st):\n",
        "  return 'dog' in st.lower().split()\n"
      ]
    },
    {
      "cell_type": "code",
      "execution_count": null,
      "metadata": {
        "id": "2b4jgFPOQJuI",
        "outputId": "c32c1f16-9950-4fbc-e9ba-eeae7937f81e",
        "colab": {
          "base_uri": "https://localhost:8080/"
        }
      },
      "outputs": [
        {
          "output_type": "execute_result",
          "data": {
            "text/plain": [
              "False"
            ]
          },
          "metadata": {},
          "execution_count": 15
        }
      ],
      "source": [
        "findDog('Is there a dogg here?')"
      ]
    },
    {
      "cell_type": "markdown",
      "metadata": {
        "id": "w3UV5uuaQJuJ"
      },
      "source": [
        "** Create a function that counts the number of times the word \"dog\" occurs in a string. Again ignore edge cases. **"
      ]
    },
    {
      "cell_type": "code",
      "execution_count": null,
      "metadata": {
        "id": "5oMhr3-qQJuJ"
      },
      "outputs": [],
      "source": [
        "def countDog(st):\n",
        "  count = 0\n",
        "  for word in st.lower().split():\n",
        "    if word == 'dog':\n",
        "      count += 1\n",
        "  return count"
      ]
    },
    {
      "cell_type": "code",
      "execution_count": null,
      "metadata": {
        "id": "1HxTPIaLQJuJ",
        "outputId": "97444fb0-98e9-4ed5-ce25-9a05ffbc6f91",
        "colab": {
          "base_uri": "https://localhost:8080/"
        }
      },
      "outputs": [
        {
          "output_type": "execute_result",
          "data": {
            "text/plain": [
              "2"
            ]
          },
          "metadata": {},
          "execution_count": 17
        }
      ],
      "source": [
        "countDog('This dog runs faster than the other dog dude!')"
      ]
    },
    {
      "cell_type": "markdown",
      "metadata": {
        "id": "ncs1mE9SQJuK"
      },
      "source": [
        "** Use lambda expressions and the filter() function to filter out words from a list that don't start with the letter 's'. For example:**\n",
        "\n",
        "    seq = ['soup','dog','salad','cat','great']\n",
        "\n",
        "**should be filtered down to:**\n",
        "\n",
        "    ['soup','salad']"
      ]
    },
    {
      "cell_type": "code",
      "execution_count": null,
      "metadata": {
        "collapsed": true,
        "id": "DFR_5vgPQJuL"
      },
      "outputs": [],
      "source": [
        "seq = ['soup','dog','salad','cat','great']"
      ]
    },
    {
      "cell_type": "code",
      "execution_count": null,
      "metadata": {
        "id": "IbPc-SK-QJuL",
        "outputId": "d5d5f07e-d5c7-49b6-d6c9-d2b1951d8cb9",
        "colab": {
          "base_uri": "https://localhost:8080/"
        }
      },
      "outputs": [
        {
          "output_type": "execute_result",
          "data": {
            "text/plain": [
              "['soup', 'salad']"
            ]
          },
          "metadata": {},
          "execution_count": 21
        }
      ],
      "source": [
        "a = list(filter(lambda x: x[0]=='s',seq))\n",
        "a"
      ]
    },
    {
      "cell_type": "markdown",
      "metadata": {
        "id": "WZB9cYH-QJuM"
      },
      "source": [
        "### Final Problem\n",
        "**You are driving a little too fast, and a police officer stops you. Write a function\n",
        "  to return one of 3 possible results: \"No ticket\", \"Small ticket\", or \"Big Ticket\".\n",
        "  If your speed is 60 or less, the result is \"No Ticket\". If speed is between 61\n",
        "  and 80 inclusive, the result is \"Small Ticket\". If speed is 81 or more, the result is \"Big    Ticket\". Unless it is your birthday (encoded as a boolean value in the parameters of the function) -- on your birthday, your speed can be 5 higher in all\n",
        "  cases. **"
      ]
    },
    {
      "cell_type": "code",
      "execution_count": null,
      "metadata": {
        "collapsed": true,
        "id": "MF56ggOQQJuM",
        "colab": {
          "base_uri": "https://localhost:8080/"
        },
        "outputId": "4c779fd8-77d6-486c-f4ba-67eccb697405"
      },
      "outputs": [
        {
          "output_type": "stream",
          "name": "stdout",
          "text": [
            "Small ticket\n",
            "Big Ticket\n"
          ]
        }
      ],
      "source": [
        "def caught_speeding(speed, is_birthday):\n",
        "    if is_birthday:\n",
        "        speed -= 5\n",
        "\n",
        "    if speed <= 60:\n",
        "        return \"No ticket\"\n",
        "    elif speed <= 80:\n",
        "        return \"Small ticket\"\n",
        "    else:\n",
        "        return \"Big Ticket\"\n",
        "print(caught_speeding(81, True))\n",
        "print(caught_speeding(81, False))"
      ]
    },
    {
      "cell_type": "code",
      "execution_count": null,
      "metadata": {
        "id": "3QU9IrRmQJuN",
        "outputId": "56950c7e-505d-4c04-fa0c-2ead67c9b27d",
        "colab": {
          "base_uri": "https://localhost:8080/",
          "height": 38
        }
      },
      "outputs": [
        {
          "output_type": "execute_result",
          "data": {
            "text/plain": [
              "'Small ticket'"
            ],
            "application/vnd.google.colaboratory.intrinsic+json": {
              "type": "string"
            }
          },
          "metadata": {},
          "execution_count": 23
        }
      ],
      "source": [
        "caught_speeding(81,True)"
      ]
    },
    {
      "cell_type": "code",
      "execution_count": null,
      "metadata": {
        "id": "1lsXiwFSQJuO",
        "outputId": "502985df-9047-429b-9335-4924e8f4477e",
        "colab": {
          "base_uri": "https://localhost:8080/",
          "height": 38
        }
      },
      "outputs": [
        {
          "output_type": "execute_result",
          "data": {
            "text/plain": [
              "'Big Ticket'"
            ],
            "application/vnd.google.colaboratory.intrinsic+json": {
              "type": "string"
            }
          },
          "metadata": {},
          "execution_count": 24
        }
      ],
      "source": [
        "caught_speeding(81,False)"
      ]
    },
    {
      "cell_type": "code",
      "execution_count": null,
      "metadata": {
        "id": "8Ckci1sCQJuO"
      },
      "outputs": [],
      "source": [
        "Question\n",
        "Given a string print number num by extracting all the\n",
        "digits from the string as in string\n",
        "Print negative number if the first character in\n",
        "string is '-'\n",
        "eg.\n",
        "-123abcd should return -123,abcd456-->456,fdhfh78dsd89--->7889,-56dssd78-->-5678"
      ]
    },
    {
      "cell_type": "code",
      "source": [
        "def extract_number(s):\n",
        "  num_str = ''\n",
        "  negative = False\n",
        "  if s and s[0] == '-':\n",
        "    negative = True\n",
        "    s = s[1:]\n",
        "\n",
        "  for char in s:\n",
        "    if char.isdigit():\n",
        "      num_str += char\n",
        "\n",
        "  if num_str:\n",
        "    if negative:\n",
        "      return -int(num_str)\n",
        "    else:\n",
        "      return int(num_str)\n",
        "  else:\n",
        "    return None\n",
        "\n",
        "print(extract_number(\"-123abcd\"))\n",
        "print(extract_number(\"abcd456\"))\n",
        "print(extract_number(\"fdhfh78dsd89\"))\n",
        "print(extract_number(\"-56dssd78\"))\n"
      ],
      "metadata": {
        "colab": {
          "base_uri": "https://localhost:8080/"
        },
        "id": "SgdxhGhsoY14",
        "outputId": "be67436f-843e-4da1-c9d1-7ef095d6385a"
      },
      "execution_count": null,
      "outputs": [
        {
          "output_type": "stream",
          "name": "stdout",
          "text": [
            "-123\n",
            "456\n",
            "7889\n",
            "-5678\n"
          ]
        }
      ]
    },
    {
      "cell_type": "code",
      "source": [
        "def numcheck(n):\n",
        "    lst = ['0', '1', '2', '3', '4', '5', '6', '7', '8', '9']\n",
        "    num_str = ''\n",
        "    negative = False\n",
        "\n",
        "    if n and n[0] == '-':\n",
        "        negative = True\n",
        "        n = n[1:]\n",
        "\n",
        "    for i in n:\n",
        "        if i in lst:\n",
        "            num_str += i\n",
        "    if negative:\n",
        "        num_str = '-' + num_str\n",
        "    print(num_str)\n",
        "numcheck('32dhs32')\n",
        "numcheck('-a1b2c3')\n",
        "numcheck('abc')"
      ],
      "metadata": {
        "colab": {
          "base_uri": "https://localhost:8080/"
        },
        "id": "2fRBPeXU4uFl",
        "outputId": "5ee7febd-e163-4882-aa58-0da97e61f87b"
      },
      "execution_count": null,
      "outputs": [
        {
          "output_type": "stream",
          "name": "stdout",
          "text": [
            "\n"
          ]
        }
      ]
    },
    {
      "cell_type": "code",
      "execution_count": null,
      "metadata": {
        "id": "Aoj2DERXQJuP"
      },
      "outputs": [],
      "source": [
        "Q2\n",
        "WAP to check whether a number is palindrome or not on following conditions.\n",
        "1. take input number\n",
        "2. add number and its reverse\n",
        "3. check that number is palindrome or not,if not then sum and its reverse"
      ]
    },
    {
      "cell_type": "code",
      "source": [
        "def is_palindrome(num):\n",
        "    return str(num) == str(num)[::-1]\n",
        "\n",
        "number = int(input(\"Enter a number: \"))\n",
        "\n",
        "while not is_palindrome(number):\n",
        "    reverse_number = int(str(number)[::-1])\n",
        "    new_number = number + reverse_number\n",
        "    print(f\"{number} + {reverse_number} = {new_number}\")\n",
        "    number = new_number\n",
        "\n",
        "print(\"Palindrome found:\", number)\n",
        "\n"
      ],
      "metadata": {
        "colab": {
          "base_uri": "https://localhost:8080/"
        },
        "id": "ZbLw3kz-Bwqw",
        "outputId": "e6aca807-1316-4064-86e6-5b77216be6a1"
      },
      "execution_count": 2,
      "outputs": [
        {
          "output_type": "stream",
          "name": "stdout",
          "text": [
            "Enter a number: 31\n",
            "31 + 13 = 44\n",
            "Palindrome found: 44\n"
          ]
        }
      ]
    },
    {
      "cell_type": "code",
      "execution_count": null,
      "metadata": {
        "id": "82LZn3ZNQJuP"
      },
      "outputs": [],
      "source": [
        "Write a python function to find and display the five\n",
        "digit number in which the first digit is two more than\n",
        "the second,the second digit is two more than the third,\n",
        "the fourth digit is two less than the third, and the\n",
        "last digit is two more than\n",
        "the fourth.The sum of the third,fourth and fifth digits\n",
        "equals the first.The sum of all the digits is 19"
      ]
    },
    {
      "cell_type": "code",
      "source": [
        "def find_five_digit():\n",
        "    for c in range(2, 6):\n",
        "        a = c + 4\n",
        "        b = c + 2\n",
        "        d = c - 2\n",
        "        e = d + 2\n",
        "\n",
        "        if (a + b + c + d + e == 19 and\n",
        "            (c + d + e) == a and\n",
        "            0 <= a <= 9 and\n",
        "            0 <= b <= 9 and\n",
        "            0 <= d <= 9 and\n",
        "            0 <= e <= 9):\n",
        "\n",
        "            return f\"{a}{b}{c}{d}{e}\"\n",
        "\n",
        "    return \"No valid number found\"\n",
        "\n"
      ],
      "metadata": {
        "id": "g3lNO08oBv7L"
      },
      "execution_count": 3,
      "outputs": []
    },
    {
      "cell_type": "code",
      "execution_count": 5,
      "metadata": {
        "id": "z1mWzCN4QJuQ",
        "colab": {
          "base_uri": "https://localhost:8080/",
          "height": 38
        },
        "outputId": "f0b1d4dc-8161-4851-fe97-244cd97cf853"
      },
      "outputs": [
        {
          "output_type": "execute_result",
          "data": {
            "text/plain": [
              "'75313'"
            ],
            "application/vnd.google.colaboratory.intrinsic+json": {
              "type": "string"
            }
          },
          "metadata": {},
          "execution_count": 5
        }
      ],
      "source": [
        "find_five_digit()\n"
      ]
    },
    {
      "cell_type": "code",
      "execution_count": null,
      "metadata": {
        "id": "HeCG7YXdQJuQ"
      },
      "outputs": [],
      "source": []
    },
    {
      "cell_type": "markdown",
      "metadata": {
        "id": "HQI8SaqWQJuR"
      },
      "source": [
        "# Great job!"
      ]
    },
    {
      "cell_type": "markdown",
      "source": [
        "***Thank You Sir!***"
      ],
      "metadata": {
        "id": "sE9Vwo7NBmmJ"
      }
    }
  ],
  "metadata": {
    "colab": {
      "provenance": [],
      "include_colab_link": true
    },
    "kernelspec": {
      "display_name": "Python 3 (ipykernel)",
      "language": "python",
      "name": "python3"
    },
    "language_info": {
      "codemirror_mode": {
        "name": "ipython",
        "version": 3
      },
      "file_extension": ".py",
      "mimetype": "text/x-python",
      "name": "python",
      "nbconvert_exporter": "python",
      "pygments_lexer": "ipython3",
      "version": "3.10.9"
    }
  },
  "nbformat": 4,
  "nbformat_minor": 0
}